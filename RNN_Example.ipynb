{
 "cells": [
  {
   "cell_type": "markdown",
   "metadata": {},
   "source": [
    "## RNN with Pytorch\n",
    "We will demonstrate RNN with a non-trivial example. The function we want to estimate has both an auto-regressive component and another predictor.  We will estimate this function using an RNN. This example serves to illustrate how RNN can be applied to prediction problems"
   ]
  },
  {
   "cell_type": "code",
   "execution_count": 1,
   "metadata": {},
   "outputs": [],
   "source": [
    "import numpy as np\n",
    "import datetime\n",
    "from datetime import timedelta\n",
    "start_time = datetime.datetime(18,11,5,12,32,23)\n",
    "timestamps = [start_time + timedelta(days = i) for i in range(500)]"
   ]
  },
  {
   "cell_type": "markdown",
   "metadata": {},
   "source": [
    "### Notation:\n",
    "1. resp : The response we want to model\n",
    "2. predictor2: Independent attribute for predicting the response (resp). Values for predictor2 are drawn from a $\\mathbf{N}(0,1)$ distribution.\n",
    "3. autoregressive component: The response also depends on the value at the previous time step.\n",
    "4. noise: A small amount of noise, $\\mathbf{N}(0,0.1)$, was added to the response\n",
    "\n",
    "$$ resp(t) = resp(t-1) * 1.01 + 0.4* predictor2$$\n",
    "Initial value of the response, resp(0) = 12344.44\n",
    "\n",
    "The response could represent something we are interested in forecasting, say sales.\n"
   ]
  },
  {
   "cell_type": "code",
   "execution_count": 2,
   "metadata": {},
   "outputs": [],
   "source": [
    "np.random.seed(1234)\n",
    "sales_time_zero = 12344.44\n",
    "predictor2 = np.random.normal(0, 1, 500)\n",
    "resp = np.zeros(500, np.float64)\n",
    "\n",
    "for i in range(500):\n",
    "    if i == 0:\n",
    "        resp[i] = sales_time_zero\n",
    "    else:\n",
    "        resp[i] = resp[(i-1)]* 1.01 + 0.4*predictor2[i] + np.random.normal(0, 0.1, 1)"
   ]
  },
  {
   "cell_type": "code",
   "execution_count": 3,
   "metadata": {},
   "outputs": [],
   "source": [
    "SEQ_START = 0\n",
    "SEQ_LENGTH = 4\n",
    "SEQ_END = SEQ_START + SEQ_LENGTH\n",
    "INPUT_SIZE = 2\n",
    "HIDDEN_SIZE = 4\n",
    "NUM_LAYERS = 1\n",
    "OUTPUT_SIZE = 1\n",
    "BATCH_SIZE = 1\n",
    "def get_seq_data():\n",
    "    global SEQ_START, SEQ_END, SEQ_LENGTH\n",
    "    x_dc1 = resp[SEQ_START:SEQ_END]\n",
    "    x_dc1 = x_dc1.reshape((x_dc1.shape[0], 1))\n",
    "    x_dc2 = predictor2[SEQ_START:SEQ_END] \n",
    "    x_dc2 = x_dc2.reshape((x_dc2.shape[0],1))\n",
    "    x_d = np.hstack((x_dc1, x_dc2))\n",
    "    #x_d = x_d.reshape((SEQ_LENGTH, INPUT_SIZE, BATCH_SIZE))\n",
    "    y_data = resp[(SEQ_START + 1):(SEQ_END + 1)]\n",
    "    y_data = y_data.reshape((y_data.shape[0],1))\n",
    "    SEQ_START = SEQ_START + 1\n",
    "    SEQ_END = SEQ_START + SEQ_LENGTH\n",
    "    return x_d, y_data\n"
   ]
  },
  {
   "cell_type": "code",
   "execution_count": 4,
   "metadata": {},
   "outputs": [],
   "source": [
    "def reset_params():\n",
    "    global SEQ_START, SEQ_END, SEQ_LENGTH, INPUT_SIZE, NUM_LAYERS, OUTPUT_SIZE, BATCH_SIZE\n",
    "    SEQ_START = 0\n",
    "    SEQ_LENGTH = 4\n",
    "    SEQ_END = SEQ_START + SEQ_LENGTH\n",
    "    INPUT_SIZE = 2\n",
    "    HIDDEN_SIZE = 4\n",
    "    NUM_LAYERS = 1\n",
    "    OUTPUT_SIZE = 1\n",
    "    BATCH_SIZE = 1\n",
    "    \n",
    "    return"
   ]
  },
  {
   "cell_type": "markdown",
   "metadata": {},
   "source": [
    "### Implementation Notes:\n",
    "Implementation borrowed mainly from pytorch documentation (https://pytorch.org/tutorials/intermediate/char_rnn_classification_tutorial.html?highlight=rnn)\n"
   ]
  },
  {
   "cell_type": "code",
   "execution_count": 5,
   "metadata": {},
   "outputs": [],
   "source": [
    "import torch\n",
    "import torch.nn as nn\n",
    "from torch.autograd import Variable\n",
    "\n",
    "class RNN(nn.Module):\n",
    "    def __init__(self, input_size, hidden_size, output_size):\n",
    "        super(RNN, self).__init__()\n",
    "\n",
    "        self.hidden_size = hidden_size\n",
    "\n",
    "        self.i2h = nn.Linear(input_size + hidden_size, hidden_size)\n",
    "        self.i2o = nn.Linear(input_size + hidden_size, output_size)\n",
    "\n",
    "    def forward(self, input, hidden):\n",
    "        combined = torch.cat((input, hidden), 1)\n",
    "        hidden = self.i2h(combined)\n",
    "        output = self.i2o(combined)\n",
    "        return output, hidden\n",
    "\n",
    "    def initHidden(self):\n",
    "        return torch.zeros(1, self.hidden_size)\n",
    "\n",
    "\n",
    "\n"
   ]
  },
  {
   "cell_type": "code",
   "execution_count": 6,
   "metadata": {},
   "outputs": [],
   "source": [
    "rnn = None\n",
    "hidden = None"
   ]
  },
  {
   "cell_type": "code",
   "execution_count": 7,
   "metadata": {},
   "outputs": [],
   "source": [
    "\n",
    "\n",
    "def train():\n",
    "    global rnn, hidden\n",
    "    n_epochs = 3\n",
    "    losses = np.zeros(n_epochs) # For plotting\n",
    "    n_sequences = 101\n",
    "    rnn = RNN( INPUT_SIZE, HIDDEN_SIZE, OUTPUT_SIZE)\n",
    "    hidden = rnn.initHidden()\n",
    "    learning_rate = 0.01\n",
    "    reset_params()\n",
    "    optimizer = torch.optim.Adam(rnn.parameters(), lr= learning_rate)   # optimize all cnn parameters\n",
    "    loss_func = nn.MSELoss()\n",
    "\n",
    "    for epoch in range(n_epochs):\n",
    "        print \"Epoch: \" + str(epoch)\n",
    "        for iter in range(n_sequences):\n",
    "       \n",
    "            xd, yd = get_seq_data()\n",
    "            inputs = Variable(torch.Tensor(xd))\n",
    "            targets = Variable(torch.Tensor(yd))\n",
    "            outs = []\n",
    "            loss = None\n",
    "            for i in range(SEQ_LENGTH):\n",
    "                xdi = inputs[i]\n",
    "                xdi = xdi.reshape((1, xdi.shape[0]))\n",
    "                output, hidden = rnn(xdi, hidden)\n",
    "                ## IMPORTANT step\n",
    "                hidden = hidden.data\n",
    "                outs.append(output)\n",
    "        \n",
    "        \n",
    "        \n",
    "            ts_output = torch.stack(outs, dim=1)\n",
    "            ts_output = ts_output.view(SEQ_LENGTH, 1)\n",
    "            loss = loss_func(ts_output, targets)\n",
    "        \n",
    "            optimizer.zero_grad()\n",
    "            loss.backward()\n",
    "            optimizer.step() \n",
    "\n",
    "        print \"Loss: \"  + str(loss.item())\n",
    "    \n",
    "\n",
    "        \n",
    "        "
   ]
  },
  {
   "cell_type": "markdown",
   "metadata": {},
   "source": [
    "## Note:\n",
    "Training on the first 300 or so values. The trained model is used to forecast the remainder"
   ]
  },
  {
   "cell_type": "code",
   "execution_count": 8,
   "metadata": {},
   "outputs": [
    {
     "data": {
      "text/plain": [
       "0"
      ]
     },
     "execution_count": 8,
     "metadata": {},
     "output_type": "execute_result"
    }
   ],
   "source": [
    "SEQ_START"
   ]
  },
  {
   "cell_type": "code",
   "execution_count": 9,
   "metadata": {},
   "outputs": [
    {
     "data": {
      "text/plain": [
       "124"
      ]
     },
     "execution_count": 9,
     "metadata": {},
     "output_type": "execute_result"
    }
   ],
   "source": [
    "498/4"
   ]
  },
  {
   "cell_type": "code",
   "execution_count": 10,
   "metadata": {},
   "outputs": [
    {
     "name": "stdout",
     "output_type": "stream",
     "text": [
      "Epoch: 0\n",
      "Loss: 83436.5390625\n",
      "Epoch: 1\n",
      "Loss: 506260.0\n",
      "Epoch: 2\n",
      "Loss: 3435361.5\n"
     ]
    }
   ],
   "source": [
    "train()"
   ]
  },
  {
   "cell_type": "code",
   "execution_count": 11,
   "metadata": {},
   "outputs": [],
   "source": [
    "from torch import optim\n",
    "TEST_SEQUENCES = 124\n",
    "outs = []\n",
    "acts = []\n",
    "\n",
    "for iter in range(TEST_SEQUENCES):\n",
    "       \n",
    "    xd, yd = get_seq_data()\n",
    "    inputs = Variable(torch.Tensor(xd))\n",
    "    targets = Variable(torch.Tensor(yd))\n",
    "    acts.extend(list(yd.ravel()))\n",
    "\n",
    "\n",
    "    for i in range(SEQ_LENGTH):\n",
    "        xdi = inputs[i]\n",
    "        xdi = xdi.reshape((1, xdi.shape[0]))\n",
    "        output, hidden = rnn(xdi, hidden)\n",
    "        hidden = hidden.data\n",
    "        pred = output.data.numpy()\n",
    "        pred = pred[0]\n",
    "        outs.append(pred)"
   ]
  },
  {
   "cell_type": "markdown",
   "metadata": {},
   "source": [
    "## Performance\n",
    "Plot of predicted versus actual is a straight line - so the model did a decent job"
   ]
  },
  {
   "cell_type": "code",
   "execution_count": 12,
   "metadata": {},
   "outputs": [
    {
     "data": {
      "text/plain": [
       "Text(0,0.5,'Predicted')"
      ]
     },
     "execution_count": 12,
     "metadata": {},
     "output_type": "execute_result"
    },
    {
     "data": {
      "image/png": "[encoded data removed]",
      "text/plain": [
       "<Figure size 432x288 with 1 Axes>"
      ]
     },
     "metadata": {},
     "output_type": "display_data"
    }
   ],
   "source": [
    "from matplotlib import pyplot as plt\n",
    "%matplotlib inline\n",
    "plt.scatter(acts, outs)\n",
    "plt.grid()\n",
    "plt.xlabel(\"Actual\")\n",
    "plt.ylabel(\"Predicted\")"
   ]
  },
  {
   "cell_type": "code",
   "execution_count": 26,
   "metadata": {},
   "outputs": [
    {
     "data": {
      "text/plain": [
       "0.9996211152590345"
      ]
     },
     "execution_count": 26,
     "metadata": {},
     "output_type": "execute_result"
    }
   ],
   "source": [
    "from sklearn.metrics import r2_score\n",
    "r2_score(acts, outs)"
   ]
  },
  {
   "cell_type": "code",
   "execution_count": null,
   "metadata": {},
   "outputs": [],
   "source": []
  }
 ],
 "metadata": {
  "kernelspec": {
   "display_name": "Python 2",
   "language": "python",
   "name": "python2"
  },
  "language_info": {
   "codemirror_mode": {
    "name": "ipython",
    "version": 2
   },
   "file_extension": ".py",
   "mimetype": "text/x-python",
   "name": "python",
   "nbconvert_exporter": "python",
   "pygments_lexer": "ipython2",
   "version": "2.7.15"
  }
 },
 "nbformat": 4,
 "nbformat_minor": 2
}
