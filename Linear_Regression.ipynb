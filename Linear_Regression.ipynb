{
 "cells": [
  {
   "cell_type": "code",
   "execution_count": 1,
   "metadata": {},
   "outputs": [],
   "source": [
    "import autograd.numpy as np\n",
    "from autograd import grad"
   ]
  },
  {
   "cell_type": "markdown",
   "metadata": {},
   "source": [
    "## Generate some linear 2 dimensional input data with some small noise\n",
    "$Y = W.X + \\mathcal{N}(0, 0.025)$ "
   ]
  },
  {
   "cell_type": "code",
   "execution_count": 2,
   "metadata": {},
   "outputs": [],
   "source": [
    "x1 = np.linspace(0,1, 20)\n",
    "x2 = np.linspace(0,1, 20)\n",
    "y = 10*x1 + 20*x2 + np.random.normal(0, 0.025, x1.shape[0])\n",
    "inputs = np.column_stack((x1,x2))"
   ]
  },
  {
   "cell_type": "code",
   "execution_count": 3,
   "metadata": {},
   "outputs": [],
   "source": [
    "\n",
    "def linear_predictions(weights, inputs):\n",
    "    # Outputs linear regresssion model\n",
    "    return np.dot(inputs, weights)"
   ]
  },
  {
   "cell_type": "markdown",
   "metadata": {},
   "source": [
    "## Define the Square Error Losss\n",
    "$J = \\frac{1}{2} \\sum_{i=1}^{i=n} \\left(y_i - \\hat{y}_i(x)\\right)^2 $"
   ]
  },
  {
   "cell_type": "code",
   "execution_count": 5,
   "metadata": {},
   "outputs": [],
   "source": [
    "def training_loss(weights):\n",
    "    # Compute mean square loss\n",
    "    preds = linear_predictions(weights, inputs)\n",
    "    res = y - preds\n",
    "    sq_res = res * res\n",
    "    J = 0.5 * np.sum(sq_res)\n",
    "    return J"
   ]
  },
  {
   "cell_type": "markdown",
   "metadata": {},
   "source": [
    "## Set up the Gradient Calculation"
   ]
  },
  {
   "cell_type": "code",
   "execution_count": 6,
   "metadata": {},
   "outputs": [],
   "source": [
    "\n",
    "# Define a function that returns gradients of training loss using autograd.\n",
    "training_gradient_fun = grad(training_loss)\n"
   ]
  },
  {
   "cell_type": "markdown",
   "metadata": {},
   "source": [
    "## Run Gradient Descent\n",
    "  $w(t+1) = w(t) -\\alpha *  \\bigtriangledown\\left(loss\\right) $ , here $\\alpha$ is the learning rate"
   ]
  },
  {
   "cell_type": "code",
   "execution_count": 7,
   "metadata": {},
   "outputs": [
    {
     "name": "stdout",
     "output_type": "stream",
     "text": [
      "Initial loss: 3019.602350827706\n",
      "Trained loss: 0.0048771100180321665\n"
     ]
    }
   ],
   "source": [
    "# Optimize weights using gradient descent.\n",
    "weights = np.array([0.2, 0.1])\n",
    "print \"Initial loss:\", training_loss(weights)\n",
    "for i in xrange(5000):\n",
    "    weights -= training_gradient_fun(weights) * 0.01\n",
    "print  \"Trained loss:\", training_loss(weights)"
   ]
  },
  {
   "cell_type": "code",
   "execution_count": 8,
   "metadata": {},
   "outputs": [],
   "source": [
    "pred_output = linear_predictions(weights, inputs)"
   ]
  },
  {
   "cell_type": "markdown",
   "metadata": {},
   "source": [
    "## Plot the Results"
   ]
  },
  {
   "cell_type": "code",
   "execution_count": 9,
   "metadata": {},
   "outputs": [],
   "source": [
    "%matplotlib inline\n",
    "import matplotlib.pyplot as plt\n",
    "font = {'family' : 'sans-serif',\n",
    "        'weight' : 'bold',\n",
    "        'size'   : 14}\n",
    "\n",
    "plt.rc('font', **font)"
   ]
  },
  {
   "cell_type": "code",
   "execution_count": 16,
   "metadata": {},
   "outputs": [
    {
     "data": {
      "text/plain": [
       "<matplotlib.text.Text at 0x7fe24f9ee490>"
      ]
     },
     "execution_count": 16,
     "metadata": {},
     "output_type": "execute_result"
    },
    {
     "data": {
      "image/png": "[encoded data removed]",
      "text/plain": [
       "<matplotlib.figure.Figure at 0x7fe24fca9b10>"
      ]
     },
     "metadata": {},
     "output_type": "display_data"
    }
   ],
   "source": [
    "plt.scatter(y, pred_output, color = \"red\")\n",
    "plt.xlabel(\"Y\")\n",
    "plt.ylabel(r'$\\hat{Y}$')\n",
    "plt.title(r'$Y\\ versus\\ \\hat{Y}$')"
   ]
  },
  {
   "cell_type": "code",
   "execution_count": null,
   "metadata": {},
   "outputs": [],
   "source": []
  }
 ],
 "metadata": {
  "kernelspec": {
   "display_name": "Python 2",
   "language": "python",
   "name": "python2"
  },
  "language_info": {
   "codemirror_mode": {
    "name": "ipython",
    "version": 2
   },
   "file_extension": ".py",
   "mimetype": "text/x-python",
   "name": "python",
   "nbconvert_exporter": "python",
   "pygments_lexer": "ipython2",
   "version": "2.7.15"
  }
 },
 "nbformat": 4,
 "nbformat_minor": 1
}
